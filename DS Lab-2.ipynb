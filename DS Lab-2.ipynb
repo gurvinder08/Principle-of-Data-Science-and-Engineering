{
 "cells": [
  {
   "cell_type": "markdown",
   "id": "98246392",
   "metadata": {},
   "source": [
    "# Data Science Lab-02"
   ]
  },
  {
   "cell_type": "markdown",
   "id": "95f82446",
   "metadata": {},
   "source": [
    "<b>Name: Gurvinder Kaur Matharu<br>\n",
    "PRN: 20190802077"
   ]
  },
  {
   "cell_type": "markdown",
   "id": "ac87f025",
   "metadata": {},
   "source": [
    "### AIM :\n",
    "Consider two data sets given i.e. Customer Behavior and House Price Prediction.\n",
    "1. Find Bivariate Association between numeric variables using Covariance and Simple Correlation for the given “House Price Prediction” Data set. Represent the results of covariance and correlation into n*n matrices. Where n is the number of numeric variables.\n",
    "2. Find Bivariate Association between categorical variable “Gender” and numerical variable “Salary” using Point Biserial Correlation for the given Data set i.e. “Customer Behavior”."
   ]
  },
  {
   "cell_type": "markdown",
   "id": "573a39fc",
   "metadata": {},
   "source": [
    "### THEORY:\n",
    "Covariance deals with the quantification of linear association between 2 numerical variables.<br>\n",
    "Correlation is a linear association between two numerical variables whose values lie between [-1, 1].With correlation we can predict the intensity as well as the direction.<br>\n",
    "Point biserial correlation deals with the association between categorical and numerical variables. For point biserial correlation the categorical variables should be true dichotomous."
   ]
  },
  {
   "cell_type": "code",
   "execution_count": 1,
   "id": "18cd6e11",
   "metadata": {},
   "outputs": [],
   "source": [
    "import pandas as pd\n",
    "import numpy as np"
   ]
  },
  {
   "cell_type": "code",
   "execution_count": 2,
   "id": "2eaf26af",
   "metadata": {},
   "outputs": [],
   "source": [
    "house_price = pd.read_csv('kc_house_data.csv')\n",
    "customer_behaviour = pd.read_csv('Customer_Behaviour.csv')"
   ]
  },
  {
   "cell_type": "code",
   "execution_count": 3,
   "id": "aea347eb",
   "metadata": {},
   "outputs": [
    {
     "data": {
      "text/html": [
       "<div>\n",
       "<style scoped>\n",
       "    .dataframe tbody tr th:only-of-type {\n",
       "        vertical-align: middle;\n",
       "    }\n",
       "\n",
       "    .dataframe tbody tr th {\n",
       "        vertical-align: top;\n",
       "    }\n",
       "\n",
       "    .dataframe thead th {\n",
       "        text-align: right;\n",
       "    }\n",
       "</style>\n",
       "<table border=\"1\" class=\"dataframe\">\n",
       "  <thead>\n",
       "    <tr style=\"text-align: right;\">\n",
       "      <th></th>\n",
       "      <th>id</th>\n",
       "      <th>price</th>\n",
       "      <th>sqft_living</th>\n",
       "      <th>floors</th>\n",
       "      <th>zipcode</th>\n",
       "    </tr>\n",
       "  </thead>\n",
       "  <tbody>\n",
       "    <tr>\n",
       "      <th>0</th>\n",
       "      <td>7129300520</td>\n",
       "      <td>221900.0</td>\n",
       "      <td>1180</td>\n",
       "      <td>1.0</td>\n",
       "      <td>98178</td>\n",
       "    </tr>\n",
       "    <tr>\n",
       "      <th>1</th>\n",
       "      <td>6414100192</td>\n",
       "      <td>538000.0</td>\n",
       "      <td>2570</td>\n",
       "      <td>2.0</td>\n",
       "      <td>98125</td>\n",
       "    </tr>\n",
       "    <tr>\n",
       "      <th>2</th>\n",
       "      <td>5631500400</td>\n",
       "      <td>180000.0</td>\n",
       "      <td>770</td>\n",
       "      <td>1.0</td>\n",
       "      <td>98028</td>\n",
       "    </tr>\n",
       "    <tr>\n",
       "      <th>3</th>\n",
       "      <td>2487200875</td>\n",
       "      <td>604000.0</td>\n",
       "      <td>1960</td>\n",
       "      <td>1.0</td>\n",
       "      <td>98136</td>\n",
       "    </tr>\n",
       "    <tr>\n",
       "      <th>4</th>\n",
       "      <td>1954400510</td>\n",
       "      <td>510000.0</td>\n",
       "      <td>1680</td>\n",
       "      <td>1.0</td>\n",
       "      <td>98074</td>\n",
       "    </tr>\n",
       "  </tbody>\n",
       "</table>\n",
       "</div>"
      ],
      "text/plain": [
       "           id     price  sqft_living  floors  zipcode\n",
       "0  7129300520  221900.0         1180     1.0    98178\n",
       "1  6414100192  538000.0         2570     2.0    98125\n",
       "2  5631500400  180000.0          770     1.0    98028\n",
       "3  2487200875  604000.0         1960     1.0    98136\n",
       "4  1954400510  510000.0         1680     1.0    98074"
      ]
     },
     "execution_count": 3,
     "metadata": {},
     "output_type": "execute_result"
    }
   ],
   "source": [
    "house_price.head()"
   ]
  },
  {
   "cell_type": "code",
   "execution_count": 4,
   "id": "788067a2",
   "metadata": {},
   "outputs": [
    {
     "data": {
      "text/html": [
       "<div>\n",
       "<style scoped>\n",
       "    .dataframe tbody tr th:only-of-type {\n",
       "        vertical-align: middle;\n",
       "    }\n",
       "\n",
       "    .dataframe tbody tr th {\n",
       "        vertical-align: top;\n",
       "    }\n",
       "\n",
       "    .dataframe thead th {\n",
       "        text-align: right;\n",
       "    }\n",
       "</style>\n",
       "<table border=\"1\" class=\"dataframe\">\n",
       "  <thead>\n",
       "    <tr style=\"text-align: right;\">\n",
       "      <th></th>\n",
       "      <th>User ID</th>\n",
       "      <th>Gender</th>\n",
       "      <th>Age</th>\n",
       "      <th>Salary</th>\n",
       "      <th>Purchased</th>\n",
       "    </tr>\n",
       "  </thead>\n",
       "  <tbody>\n",
       "    <tr>\n",
       "      <th>0</th>\n",
       "      <td>15624510</td>\n",
       "      <td>Male</td>\n",
       "      <td>19</td>\n",
       "      <td>19000</td>\n",
       "      <td>0</td>\n",
       "    </tr>\n",
       "    <tr>\n",
       "      <th>1</th>\n",
       "      <td>15810944</td>\n",
       "      <td>Male</td>\n",
       "      <td>35</td>\n",
       "      <td>20000</td>\n",
       "      <td>0</td>\n",
       "    </tr>\n",
       "    <tr>\n",
       "      <th>2</th>\n",
       "      <td>15668575</td>\n",
       "      <td>Female</td>\n",
       "      <td>26</td>\n",
       "      <td>43000</td>\n",
       "      <td>0</td>\n",
       "    </tr>\n",
       "    <tr>\n",
       "      <th>3</th>\n",
       "      <td>15603246</td>\n",
       "      <td>Female</td>\n",
       "      <td>27</td>\n",
       "      <td>57000</td>\n",
       "      <td>0</td>\n",
       "    </tr>\n",
       "    <tr>\n",
       "      <th>4</th>\n",
       "      <td>15804002</td>\n",
       "      <td>Male</td>\n",
       "      <td>19</td>\n",
       "      <td>76000</td>\n",
       "      <td>0</td>\n",
       "    </tr>\n",
       "  </tbody>\n",
       "</table>\n",
       "</div>"
      ],
      "text/plain": [
       "    User ID  Gender  Age  Salary  Purchased\n",
       "0  15624510    Male   19   19000          0\n",
       "1  15810944    Male   35   20000          0\n",
       "2  15668575  Female   26   43000          0\n",
       "3  15603246  Female   27   57000          0\n",
       "4  15804002    Male   19   76000          0"
      ]
     },
     "execution_count": 4,
     "metadata": {},
     "output_type": "execute_result"
    }
   ],
   "source": [
    "customer_behaviour.head()"
   ]
  },
  {
   "cell_type": "markdown",
   "id": "c60ee23d",
   "metadata": {},
   "source": [
    "##### Question 1"
   ]
  },
  {
   "cell_type": "code",
   "execution_count": 5,
   "id": "69c51c97",
   "metadata": {},
   "outputs": [],
   "source": [
    "def cov(x,y):\n",
    "    n = len(x)\n",
    "    s1=0\n",
    "    s2=0\n",
    "    h=0\n",
    "    mean_x = sum(x)/n\n",
    "    mean_y = sum(y)/n\n",
    "    for i in range(n):\n",
    "        s1 = x[i] - mean_x\n",
    "        s2 = y[i] - mean_y\n",
    "        h += s1*s2\n",
    "    covariance = h/(n-1)\n",
    "    \n",
    "    return covariance"
   ]
  },
  {
   "cell_type": "code",
   "execution_count": 6,
   "id": "407d1e57",
   "metadata": {},
   "outputs": [
    {
     "name": "stdout",
     "output_type": "stream",
     "text": [
      "Covariance between columns price and sqft_living:  236869900.9090375\n",
      "Covariance between columns price and floors:  50938.972054024925\n",
      "Covariance between columns sqft_living and floors:  175.54040197858484\n"
     ]
    }
   ],
   "source": [
    "c1 = cov(house_price['price'], house_price['sqft_living'])\n",
    "c2 = cov(house_price['price'], house_price['floors'])\n",
    "c3 = cov(house_price['sqft_living'], house_price['floors'])\n",
    "print('Covariance between columns price and sqft_living: ', c1)\n",
    "print('Covariance between columns price and floors: ', c2)\n",
    "print('Covariance between columns sqft_living and floors: ', c3)"
   ]
  },
  {
   "cell_type": "code",
   "execution_count": 7,
   "id": "0bc3b4a2",
   "metadata": {},
   "outputs": [],
   "source": [
    "def simple_corr(x,y):\n",
    "    n=len(x)\n",
    "    covariance = cov(x,y)\n",
    "    s1,s2 =0,0\n",
    "    h1, h2 =0,0\n",
    "    mean_x = sum(x)/n\n",
    "    mean_y = sum(y)/n\n",
    "    for i in range(n):\n",
    "        s1 += (x[i] - mean_x)**2\n",
    "        s2 += (y[i] - mean_y)**2\n",
    "    var_x = s1/(n-1)\n",
    "    var_y = s2/(n-1)\n",
    "    std_x = (var_x)**0.5\n",
    "    std_y = (var_y)**0.5\n",
    "    corr = (covariance)/(std_x*std_y)\n",
    "    return corr"
   ]
  },
  {
   "cell_type": "code",
   "execution_count": 8,
   "id": "7f58c99e",
   "metadata": {},
   "outputs": [
    {
     "name": "stdout",
     "output_type": "stream",
     "text": [
      "Correlation between columns price and sqft_living:  0.7020437212325263\n",
      "Correlation between columns price and floors:  0.25678570497549585\n",
      "Correlation between columns floors and sqft_living:  0.3539492902366904\n"
     ]
    }
   ],
   "source": [
    "co1 = simple_corr(house_price['price'], house_price['sqft_living'])\n",
    "co2 = simple_corr(house_price['price'], house_price['floors'])\n",
    "co3 = simple_corr(house_price['floors'], house_price['sqft_living'])\n",
    "co4 = simple_corr(house_price['price'], house_price['price'])\n",
    "co5 = simple_corr(house_price['floors'], house_price['floors'])\n",
    "co6 = simple_corr(house_price['sqft_living'], house_price['sqft_living'])\n",
    "print('Correlation between columns price and sqft_living: ', co1)\n",
    "print('Correlation between columns price and floors: ', co2)\n",
    "print('Correlation between columns floors and sqft_living: ', co3)"
   ]
  },
  {
   "cell_type": "code",
   "execution_count": 9,
   "id": "25e0c2c0",
   "metadata": {},
   "outputs": [
    {
     "name": "stdout",
     "output_type": "stream",
     "text": [
      "                price  sqft_living    floors\n",
      "price        1.000000     0.702044  0.256786\n",
      "sqft_living  0.702044     1.000000  0.353949\n",
      "floors       0.256786     0.353949  1.000000\n"
     ]
    }
   ],
   "source": [
    "matrix = np.array([[co4, co1, co2],\n",
    "                  [co1, co6, co3],\n",
    "                  [co2, co3, co5]])\n",
    "labels = ['price', 'sqft_living', 'floors']\n",
    "df = pd.DataFrame(matrix, columns=labels, index=labels)\n",
    "print(df)"
   ]
  },
  {
   "cell_type": "markdown",
   "id": "d972a21d",
   "metadata": {},
   "source": [
    "The correlation between 'price' and 'sqft_living' is 0.702044, which suggests that they are moderately positive correlated, correlation between 'price' and 'floors' is 0.256786, which suggests that these 2 columns have a weak positive correlation. Therefore we can say that if the correlation between two numerical variables is closer to zero then they are weakly correlated with each other and if the value is close to either 1 or -1 then the numerical variables are strongly correlated."
   ]
  },
  {
   "cell_type": "code",
   "execution_count": 10,
   "id": "14b345f8",
   "metadata": {},
   "outputs": [
    {
     "data": {
      "text/html": [
       "<div>\n",
       "<style scoped>\n",
       "    .dataframe tbody tr th:only-of-type {\n",
       "        vertical-align: middle;\n",
       "    }\n",
       "\n",
       "    .dataframe tbody tr th {\n",
       "        vertical-align: top;\n",
       "    }\n",
       "\n",
       "    .dataframe thead th {\n",
       "        text-align: right;\n",
       "    }\n",
       "</style>\n",
       "<table border=\"1\" class=\"dataframe\">\n",
       "  <thead>\n",
       "    <tr style=\"text-align: right;\">\n",
       "      <th></th>\n",
       "      <th>id</th>\n",
       "      <th>price</th>\n",
       "      <th>sqft_living</th>\n",
       "      <th>floors</th>\n",
       "      <th>zipcode</th>\n",
       "    </tr>\n",
       "  </thead>\n",
       "  <tbody>\n",
       "    <tr>\n",
       "      <th>id</th>\n",
       "      <td>1.000000</td>\n",
       "      <td>-0.016797</td>\n",
       "      <td>-0.012258</td>\n",
       "      <td>0.018525</td>\n",
       "      <td>-0.008224</td>\n",
       "    </tr>\n",
       "    <tr>\n",
       "      <th>price</th>\n",
       "      <td>-0.016797</td>\n",
       "      <td>1.000000</td>\n",
       "      <td>0.702044</td>\n",
       "      <td>0.256786</td>\n",
       "      <td>-0.053168</td>\n",
       "    </tr>\n",
       "    <tr>\n",
       "      <th>sqft_living</th>\n",
       "      <td>-0.012258</td>\n",
       "      <td>0.702044</td>\n",
       "      <td>1.000000</td>\n",
       "      <td>0.353949</td>\n",
       "      <td>-0.199430</td>\n",
       "    </tr>\n",
       "    <tr>\n",
       "      <th>floors</th>\n",
       "      <td>0.018525</td>\n",
       "      <td>0.256786</td>\n",
       "      <td>0.353949</td>\n",
       "      <td>1.000000</td>\n",
       "      <td>-0.059121</td>\n",
       "    </tr>\n",
       "    <tr>\n",
       "      <th>zipcode</th>\n",
       "      <td>-0.008224</td>\n",
       "      <td>-0.053168</td>\n",
       "      <td>-0.199430</td>\n",
       "      <td>-0.059121</td>\n",
       "      <td>1.000000</td>\n",
       "    </tr>\n",
       "  </tbody>\n",
       "</table>\n",
       "</div>"
      ],
      "text/plain": [
       "                   id     price  sqft_living    floors   zipcode\n",
       "id           1.000000 -0.016797    -0.012258  0.018525 -0.008224\n",
       "price       -0.016797  1.000000     0.702044  0.256786 -0.053168\n",
       "sqft_living -0.012258  0.702044     1.000000  0.353949 -0.199430\n",
       "floors       0.018525  0.256786     0.353949  1.000000 -0.059121\n",
       "zipcode     -0.008224 -0.053168    -0.199430 -0.059121  1.000000"
      ]
     },
     "execution_count": 10,
     "metadata": {},
     "output_type": "execute_result"
    }
   ],
   "source": [
    "house_price.corr()"
   ]
  },
  {
   "cell_type": "markdown",
   "id": "e6daf905",
   "metadata": {},
   "source": [
    "##### Question 2"
   ]
  },
  {
   "cell_type": "code",
   "execution_count": 11,
   "id": "a92fc118",
   "metadata": {},
   "outputs": [
    {
     "name": "stdout",
     "output_type": "stream",
     "text": [
      "     Gender  Salary\n",
      "0         0   19000\n",
      "1         0   20000\n",
      "4         0   76000\n",
      "5         0   58000\n",
      "8         0   33000\n",
      "..      ...     ...\n",
      "390       0   33000\n",
      "391       0   23000\n",
      "393       0   42000\n",
      "396       0   23000\n",
      "398       0   33000\n",
      "\n",
      "[196 rows x 2 columns]\n"
     ]
    }
   ],
   "source": [
    "x=customer_behaviour.loc[(customer_behaviour.Gender=='Male')]\n",
    "x=x.drop(['User ID', 'Age', 'Purchased'], axis=1)\n",
    "x['Gender']=0\n",
    "print(x)"
   ]
  },
  {
   "cell_type": "code",
   "execution_count": 12,
   "id": "b4c11b14",
   "metadata": {},
   "outputs": [
    {
     "name": "stdout",
     "output_type": "stream",
     "text": [
      "     Gender  Salary\n",
      "2         1   43000\n",
      "3         1   57000\n",
      "6         1   84000\n",
      "7         1  150000\n",
      "9         1   65000\n",
      "..      ...     ...\n",
      "392       1   45000\n",
      "394       1   59000\n",
      "395       1   41000\n",
      "397       1   20000\n",
      "399       1   36000\n",
      "\n",
      "[204 rows x 2 columns]\n"
     ]
    }
   ],
   "source": [
    "y=customer_behaviour.loc[(customer_behaviour.Gender=='Female')]\n",
    "y=y.drop(['User ID', 'Age', 'Purchased'], axis=1)\n",
    "y['Gender']=1\n",
    "print(y)"
   ]
  },
  {
   "cell_type": "code",
   "execution_count": 13,
   "id": "62e65eb1",
   "metadata": {},
   "outputs": [],
   "source": [
    "def pbc(x,y,z):\n",
    "    nx=len(x['Salary'])\n",
    "    ny=len(y['Salary'])\n",
    "    nz=len(z)\n",
    "    s=0\n",
    "    mean_x=sum(x['Salary'])/nx\n",
    "    mean_y=sum(y['Salary'])/ny\n",
    "    mean_z=sum(z)/nz\n",
    "    for i in range(nz):\n",
    "        s = s + ((z[i] - mean_z)**2)\n",
    "    std_z=(s/nz-1)**0.5\n",
    "    p0 = nx/nz\n",
    "    p1=ny/nz\n",
    "    rpb = (mean_x-mean_y)*((p0*p1)**0.5)/std_z\n",
    "    print(rpb)"
   ]
  },
  {
   "cell_type": "code",
   "execution_count": 14,
   "id": "9054c1ca",
   "metadata": {},
   "outputs": [
    {
     "name": "stdout",
     "output_type": "stream",
     "text": [
      "-0.06043468532210468\n"
     ]
    }
   ],
   "source": [
    "pbc(x,y,customer_behaviour['Salary'])"
   ]
  },
  {
   "cell_type": "markdown",
   "id": "b027beb9",
   "metadata": {},
   "source": [
    "The point biserial correlation between columns 'Gender' and 'Salary' in the 'customer_behaviour' datset is -0.060434, which suggests that there is a weak and negative relation between them; since the value is close to zero."
   ]
  },
  {
   "cell_type": "markdown",
   "id": "68db6aca",
   "metadata": {},
   "source": [
    "### CONCLUSION:\n",
    "Bivariate association between the numeric variables of the 'House_Price_Prediction' Dataset were found with the help of covariance and simple correlation. Bivariate association between the categorical variable 'Gender' and numerical variable 'Salary' was calculated using Point Biserial Correlation."
   ]
  }
 ],
 "metadata": {
  "kernelspec": {
   "display_name": "Python 3",
   "language": "python",
   "name": "python3"
  },
  "language_info": {
   "codemirror_mode": {
    "name": "ipython",
    "version": 3
   },
   "file_extension": ".py",
   "mimetype": "text/x-python",
   "name": "python",
   "nbconvert_exporter": "python",
   "pygments_lexer": "ipython3",
   "version": "3.8.8"
  }
 },
 "nbformat": 4,
 "nbformat_minor": 5
}
